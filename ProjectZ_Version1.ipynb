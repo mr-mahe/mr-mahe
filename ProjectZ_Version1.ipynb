{
  "nbformat": 4,
  "nbformat_minor": 0,
  "metadata": {
    "colab": {
      "name": "ProjectZ_Version1",
      "provenance": [],
      "mount_file_id": "1vSSak_ph7prN6cjwE7Yn3vFv4rczt-Bh",
      "authorship_tag": "ABX9TyOB8ujS/YOU2cfLEA6rY+2N",
      "include_colab_link": true
    },
    "kernelspec": {
      "name": "python3",
      "display_name": "Python 3"
    },
    "language_info": {
      "name": "python"
    }
  },
  "cells": [
    {
      "cell_type": "markdown",
      "metadata": {
        "id": "view-in-github",
        "colab_type": "text"
      },
      "source": [
        "<a href=\"https://colab.research.google.com/github/mr-mahe/mr-mahe/blob/main/ProjectZ_Version1.ipynb\" target=\"_parent\"><img src=\"https://colab.research.google.com/assets/colab-badge.svg\" alt=\"Open In Colab\"/></a>"
      ]
    },
    {
      "cell_type": "markdown",
      "source": [
        "This notebook is the version 1 of projectZ which contains the code to visualize the data "
      ],
      "metadata": {
        "id": "Nm0L9Kyq5LD2"
      }
    },
    {
      "cell_type": "code",
      "source": [
        "pip install geopandas"
      ],
      "metadata": {
        "id": "4Zmy6KFB5Nw5"
      },
      "execution_count": null,
      "outputs": []
    },
    {
      "cell_type": "code",
      "source": [
        "import geopandas as gpd\n",
        "import gdal\n",
        "import shapely\n",
        "import matplotlib.pyplot as plt"
      ],
      "metadata": {
        "id": "3v1F0aK86A-U"
      },
      "execution_count": 15,
      "outputs": []
    },
    {
      "cell_type": "code",
      "source": [
        "gdf = gpd.read_file('/content/drive/MyDrive/Project_Z/Projectlength/Projectlength-rough.shp')\n",
        "print(gdf.shape)\n",
        "print(gdf.head())\n",
        "gdf.plot()\n",
        "plt.show()"
      ],
      "metadata": {
        "colab": {
          "base_uri": "https://localhost:8080/",
          "height": 277
        },
        "id": "rk6wCiqUYyit",
        "outputId": "7eb95cd1-f3f6-4b81-b9c9-02b4f5dc1e0d"
      },
      "execution_count": 17,
      "outputs": [
        {
          "output_type": "stream",
          "name": "stdout",
          "text": [
            "(1, 2)\n",
            "   id                                           geometry\n",
            "0   1  LINESTRING (74.88583 14.16398, 74.90448 14.177...\n"
          ]
        },
        {
          "output_type": "display_data",
          "data": {
            "text/plain": [
              "<Figure size 432x288 with 1 Axes>"
            ],
            "image/png": "[encoded data removed]"
          },
          "metadata": {
            "needs_background": "light"
          }
        }
      ]
    }
  ]
}